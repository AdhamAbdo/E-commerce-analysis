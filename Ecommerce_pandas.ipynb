{
  "cells": [
    {
      "attachments": {},
      "cell_type": "markdown",
      "id": "4ad8a256",
      "metadata": {
        "id": "4ad8a256"
      },
      "source": [
        "# Ecommerce\n",
        "Ask yourself 15 analystical questions that you belive will help the managers in decision making"
      ]
    },
    {
      "cell_type": "code",
      "execution_count": 1,
      "id": "018fcd0f",
      "metadata": {
        "id": "018fcd0f"
      },
      "outputs": [],
      "source": [
        "import pandas as pd\n"
      ]
    },
    {
      "cell_type": "code",
      "execution_count": 2,
      "id": "b76089d8",
      "metadata": {},
      "outputs": [
        {
          "data": {
            "text/html": [
              "<div>\n",
              "<style scoped>\n",
              "    .dataframe tbody tr th:only-of-type {\n",
              "        vertical-align: middle;\n",
              "    }\n",
              "\n",
              "    .dataframe tbody tr th {\n",
              "        vertical-align: top;\n",
              "    }\n",
              "\n",
              "    .dataframe thead th {\n",
              "        text-align: right;\n",
              "    }\n",
              "</style>\n",
              "<table border=\"1\" class=\"dataframe\">\n",
              "  <thead>\n",
              "    <tr style=\"text-align: right;\">\n",
              "      <th></th>\n",
              "      <th>InvoiceNo</th>\n",
              "      <th>UnitPrice</th>\n",
              "      <th>OrderValue</th>\n",
              "      <th>Quantit</th>\n",
              "      <th>Country</th>\n",
              "      <th>InvoiceDate</th>\n",
              "      <th>InvoiceTime</th>\n",
              "      <th>Year-Month</th>\n",
              "      <th>Major Category</th>\n",
              "      <th>Minor Category</th>\n",
              "      <th>Description</th>\n",
              "    </tr>\n",
              "  </thead>\n",
              "  <tbody>\n",
              "    <tr>\n",
              "      <th>0</th>\n",
              "      <td>549185</td>\n",
              "      <td>0.85</td>\n",
              "      <td>10.20</td>\n",
              "      <td>12</td>\n",
              "      <td>United Kingdom</td>\n",
              "      <td>7/4/11</td>\n",
              "      <td>09:35</td>\n",
              "      <td>2011-04</td>\n",
              "      <td>Clothes</td>\n",
              "      <td>Tops</td>\n",
              "      <td>PACK OF 20 NAPKINS PANTRY DESIGN</td>\n",
              "    </tr>\n",
              "    <tr>\n",
              "      <th>1</th>\n",
              "      <td>576381</td>\n",
              "      <td>2.95</td>\n",
              "      <td>35.40</td>\n",
              "      <td>12</td>\n",
              "      <td>United Kingdom</td>\n",
              "      <td>15/11/11</td>\n",
              "      <td>09:26</td>\n",
              "      <td>2011-11</td>\n",
              "      <td>Clothes</td>\n",
              "      <td>Shoes</td>\n",
              "      <td>NATURAL SLATE HEART CHALKBOARD</td>\n",
              "    </tr>\n",
              "    <tr>\n",
              "      <th>2</th>\n",
              "      <td>551192</td>\n",
              "      <td>1.25</td>\n",
              "      <td>20.00</td>\n",
              "      <td>16</td>\n",
              "      <td>United Kingdom</td>\n",
              "      <td>27/4/11</td>\n",
              "      <td>10:54</td>\n",
              "      <td>2011-04</td>\n",
              "      <td>Kitchen</td>\n",
              "      <td>Cutlery</td>\n",
              "      <td>36 PENCILS TUBE SKULLS</td>\n",
              "    </tr>\n",
              "    <tr>\n",
              "      <th>3</th>\n",
              "      <td>573553</td>\n",
              "      <td>7.46</td>\n",
              "      <td>7.46</td>\n",
              "      <td>1</td>\n",
              "      <td>United Kingdom</td>\n",
              "      <td>31/10/11</td>\n",
              "      <td>13:48</td>\n",
              "      <td>2011-10</td>\n",
              "      <td>Garden</td>\n",
              "      <td>Turf</td>\n",
              "      <td>SET 6 SCHOOL MILK BOTTLES IN CRATE</td>\n",
              "    </tr>\n",
              "    <tr>\n",
              "      <th>4</th>\n",
              "      <td>539436</td>\n",
              "      <td>2.51</td>\n",
              "      <td>2.51</td>\n",
              "      <td>1</td>\n",
              "      <td>United Kingdom</td>\n",
              "      <td>17/12/10</td>\n",
              "      <td>14:49</td>\n",
              "      <td>2010-12</td>\n",
              "      <td>Garden</td>\n",
              "      <td>Hoses</td>\n",
              "      <td>FINE WICKER HEART</td>\n",
              "    </tr>\n",
              "  </tbody>\n",
              "</table>\n",
              "</div>"
            ],
            "text/plain": [
              "   InvoiceNo    UnitPrice  OrderValue  Quantit            Country  \\\n",
              "0       549185       0.85       10.20       12  United Kingdom      \n",
              "1       576381       2.95       35.40       12  United Kingdom      \n",
              "2       551192       1.25       20.00       16  United Kingdom      \n",
              "3       573553       7.46        7.46        1  United Kingdom      \n",
              "4       539436       2.51        2.51        1  United Kingdom      \n",
              "\n",
              "    InvoiceDate  InvoiceTime  Year-Month Major Category  Minor Category  \\\n",
              "0     7/4/11        09:35     2011-04         Clothes              Tops   \n",
              "1   15/11/11        09:26     2011-11         Clothes             Shoes   \n",
              "2    27/4/11        10:54     2011-04         Kitchen           Cutlery   \n",
              "3   31/10/11        13:48     2011-10          Garden              Turf   \n",
              "4   17/12/10        14:49     2010-12          Garden             Hoses   \n",
              "\n",
              "                           Description  \n",
              "0     PACK OF 20 NAPKINS PANTRY DESIGN  \n",
              "1      NATURAL SLATE HEART CHALKBOARD   \n",
              "2               36 PENCILS TUBE SKULLS  \n",
              "3   SET 6 SCHOOL MILK BOTTLES IN CRATE  \n",
              "4                   FINE WICKER HEART   "
            ]
          },
          "execution_count": 2,
          "metadata": {},
          "output_type": "execute_result"
        }
      ],
      "source": [
        "df = pd.read_csv('D:\\E commerce analysis assignment\\E commerce analysis assignment\\ecommerce.csv')\n",
        "df.head()"
      ]
    },
    {
      "cell_type": "code",
      "execution_count": 3,
      "id": "99c7333a",
      "metadata": {},
      "outputs": [
        {
          "data": {
            "text/plain": [
              "(700, 11)"
            ]
          },
          "execution_count": 3,
          "metadata": {},
          "output_type": "execute_result"
        }
      ],
      "source": [
        "df.shape"
      ]
    },
    {
      "cell_type": "code",
      "execution_count": 4,
      "id": "59c3d3cb",
      "metadata": {},
      "outputs": [
        {
          "name": "stdout",
          "output_type": "stream",
          "text": [
            "<class 'pandas.core.frame.DataFrame'>\n",
            "RangeIndex: 700 entries, 0 to 699\n",
            "Data columns (total 11 columns):\n",
            " #   Column          Non-Null Count  Dtype  \n",
            "---  ------          --------------  -----  \n",
            " 0   InvoiceNo       700 non-null    int64  \n",
            " 1   UnitPrice       700 non-null    float64\n",
            " 2   OrderValue      700 non-null    float64\n",
            " 3   Quantit         700 non-null    int64  \n",
            " 4   Country         700 non-null    object \n",
            " 5    InvoiceDate    700 non-null    object \n",
            " 6   InvoiceTime     700 non-null    object \n",
            " 7   Year-Month      700 non-null    object \n",
            " 8   Major Category  700 non-null    object \n",
            " 9   Minor Category  700 non-null    object \n",
            " 10  Description     700 non-null    object \n",
            "dtypes: float64(2), int64(2), object(7)\n",
            "memory usage: 60.3+ KB\n"
          ]
        }
      ],
      "source": [
        "df.info()"
      ]
    },
    {
      "attachments": {},
      "cell_type": "markdown",
      "id": "8698d96c",
      "metadata": {},
      "source": [
        "### Fix Date columns "
      ]
    },
    {
      "attachments": {},
      "cell_type": "markdown",
      "id": "6425cdfd",
      "metadata": {},
      "source": [
        "1- get day from InvoiceDate columns"
      ]
    },
    {
      "cell_type": "code",
      "execution_count": 5,
      "id": "a9d41212",
      "metadata": {},
      "outputs": [],
      "source": [
        "day = df[' InvoiceDate'].str.split('/',expand=True)[0] ;"
      ]
    },
    {
      "attachments": {},
      "cell_type": "markdown",
      "id": "7b29dc60",
      "metadata": {},
      "source": [
        "2- remove the spaces"
      ]
    },
    {
      "cell_type": "code",
      "execution_count": 6,
      "id": "9a3b1c53",
      "metadata": {},
      "outputs": [],
      "source": [
        "day = day.str.strip()"
      ]
    },
    {
      "attachments": {},
      "cell_type": "markdown",
      "id": "da809ae1",
      "metadata": {},
      "source": [
        "3- remove the spaces from the Year-Month column and append the day to it"
      ]
    },
    {
      "cell_type": "code",
      "execution_count": 7,
      "id": "988f9714",
      "metadata": {},
      "outputs": [],
      "source": [
        "df['Date'] =  df['Year-Month'].str.strip()+'-'+day"
      ]
    },
    {
      "attachments": {},
      "cell_type": "markdown",
      "id": "103173d4",
      "metadata": {},
      "source": [
        "4- drop InvoiceDate and Year-Month columns"
      ]
    },
    {
      "cell_type": "code",
      "execution_count": 8,
      "id": "cbec859b",
      "metadata": {},
      "outputs": [],
      "source": [
        "df.drop(columns=[' InvoiceDate','Year-Month'],inplace=True)"
      ]
    },
    {
      "attachments": {},
      "cell_type": "markdown",
      "id": "0e2f09f1",
      "metadata": {},
      "source": [
        "5- convert Date column to date-time type"
      ]
    },
    {
      "cell_type": "code",
      "execution_count": 9,
      "id": "213e78be",
      "metadata": {},
      "outputs": [],
      "source": [
        "df['Date'] = pd.to_datetime(df['Date'],format='%Y-%m-%d')"
      ]
    },
    {
      "attachments": {},
      "cell_type": "markdown",
      "id": "4e4a0c8d",
      "metadata": {},
      "source": [
        "## Answer the Questions"
      ]
    },
    {
      "attachments": {},
      "cell_type": "markdown",
      "id": "665f7a02",
      "metadata": {},
      "source": [
        "### 1- What are the total Order value for each country"
      ]
    },
    {
      "cell_type": "code",
      "execution_count": 10,
      "id": "c23ca242",
      "metadata": {},
      "outputs": [
        {
          "data": {
            "text/plain": [
              "Country\n",
              "     Australia       6349.89\n",
              "        France       5638.16\n",
              "United Kingdom       5582.93\n",
              "       Germany       3153.71\n",
              "     Hong Kong       1660.24\n",
              "Name: OrderValue, dtype: float64"
            ]
          },
          "execution_count": 10,
          "metadata": {},
          "output_type": "execute_result"
        }
      ],
      "source": [
        "df.groupby('Country')['OrderValue'].sum().sort_values(ascending=False)"
      ]
    },
    {
      "attachments": {},
      "cell_type": "markdown",
      "id": "f194b413",
      "metadata": {},
      "source": [
        "### 2- What each Major Category sold quantity during November 2011"
      ]
    },
    {
      "cell_type": "code",
      "execution_count": 11,
      "id": "618445bc",
      "metadata": {
        "id": "618445bc",
        "outputId": "5b2b5ec7-e124-4d51-ade5-de86f8e9cfc7",
        "scrolled": true
      },
      "outputs": [
        {
          "data": {
            "text/plain": [
              "Major Category\n",
              "    Kitchen      538\n",
              "     Garden      449\n",
              "    Clothes      280\n",
              "  Household      246\n",
              "Name: Quantit, dtype: int64"
            ]
          },
          "execution_count": 11,
          "metadata": {},
          "output_type": "execute_result"
        }
      ],
      "source": [
        "df[(df['Date']>='2011-11-01') & (df['Date']<'2011-12-01')].groupby('Major Category')['Quantit'].sum().sort_values(ascending=False)"
      ]
    },
    {
      "attachments": {},
      "cell_type": "markdown",
      "id": "a45c8710",
      "metadata": {},
      "source": [
        "### 3- What's Total Order Value for each Minor Item in Kitchen\n"
      ]
    },
    {
      "cell_type": "code",
      "execution_count": 12,
      "id": "2b7e0805",
      "metadata": {
        "id": "2b7e0805",
        "outputId": "d79dfbcd-8d28-457b-98e3-eae37deefd35"
      },
      "outputs": [
        {
          "data": {
            "text/plain": [
              "Minor Category\n",
              "        Scales    1691.79\n",
              "         Bowls    1227.39\n",
              "        Plates    1148.67\n",
              "Cooking Knives    1055.46\n",
              "       Cutlery     960.29\n",
              "      Coasters     324.30\n",
              "Name: OrderValue, dtype: float64"
            ]
          },
          "execution_count": 12,
          "metadata": {},
          "output_type": "execute_result"
        }
      ],
      "source": [
        "df[df['Major Category']=='    Kitchen  '].groupby('Minor Category')['OrderValue'].sum().sort_values(ascending=False)"
      ]
    },
    {
      "attachments": {},
      "cell_type": "markdown",
      "id": "8f0a4607",
      "metadata": {},
      "source": [
        "### 4- What Month/s contributes to high demand in orders\n"
      ]
    },
    {
      "cell_type": "code",
      "execution_count": 13,
      "id": "7b5a82e5",
      "metadata": {},
      "outputs": [],
      "source": [
        "df['Month'] = df['Date'].dt.month"
      ]
    },
    {
      "cell_type": "code",
      "execution_count": 14,
      "id": "82e056b9",
      "metadata": {},
      "outputs": [],
      "source": [
        "months = ['January', 'February', 'March', 'April', 'May', 'June', 'July', 'August', 'September', 'October', 'November', 'December']"
      ]
    },
    {
      "cell_type": "code",
      "execution_count": 15,
      "id": "5d8cac62",
      "metadata": {
        "id": "5d8cac62",
        "outputId": "6f884f47-1b31-43fb-e073-d01995d28f1b"
      },
      "outputs": [
        {
          "data": {
            "text/plain": [
              "Month\n",
              "1     36809131\n",
              "2     18489943\n",
              "3     29531315\n",
              "4     16501084\n",
              "5     36515946\n",
              "6     28940238\n",
              "7     24094585\n",
              "8     29319089\n",
              "9     38566897\n",
              "10    33125675\n",
              "11    61156889\n",
              "12    38375769\n",
              "Name: InvoiceNo  , dtype: int64"
            ]
          },
          "execution_count": 15,
          "metadata": {},
          "output_type": "execute_result"
        }
      ],
      "source": [
        "df.groupby('Month')['InvoiceNo  '].sum().sort_index()"
      ]
    },
    {
      "cell_type": "code",
      "execution_count": 16,
      "id": "54b69857",
      "metadata": {},
      "outputs": [
        {
          "data": {
            "text/plain": [
              "<Axes: xlabel='Month'>"
            ]
          },
          "execution_count": 16,
          "metadata": {},
          "output_type": "execute_result"
        },
        {
          "data": {
            "image/png": "[encoded data removed]",
            "text/plain": [
              "<Figure size 640x480 with 1 Axes>"
            ]
          },
          "metadata": {},
          "output_type": "display_data"
        }
      ],
      "source": [
        "df.groupby('Month')['InvoiceNo  '].count().sort_index().plot(kind='line')"
      ]
    },
    {
      "attachments": {},
      "cell_type": "markdown",
      "id": "17717fab",
      "metadata": {},
      "source": [
        "### 5- What Month/s contributes to high OrderValue?\n"
      ]
    },
    {
      "cell_type": "code",
      "execution_count": 17,
      "id": "abfcd2cd",
      "metadata": {
        "id": "abfcd2cd",
        "outputId": "46fc53b9-8e72-4265-f5ef-ec8e883a4c52"
      },
      "outputs": [
        {
          "data": {
            "text/plain": [
              "Month\n",
              "11    2553.74\n",
              "5     2394.34\n",
              "9     2339.75\n",
              "8     2327.19\n",
              "3     2324.19\n",
              "1     2080.25\n",
              "6     1878.89\n",
              "2     1758.76\n",
              "7     1562.23\n",
              "10    1382.54\n",
              "12    1194.22\n",
              "4      588.83\n",
              "Name: OrderValue, dtype: float64"
            ]
          },
          "execution_count": 17,
          "metadata": {},
          "output_type": "execute_result"
        }
      ],
      "source": [
        "df.groupby('Month')['OrderValue'].sum().sort_values(ascending=False)\n"
      ]
    },
    {
      "cell_type": "code",
      "execution_count": 18,
      "id": "5a0bfee6",
      "metadata": {},
      "outputs": [
        {
          "data": {
            "text/plain": [
              "<Axes: xlabel='Month'>"
            ]
          },
          "execution_count": 18,
          "metadata": {},
          "output_type": "execute_result"
        },
        {
          "data": {
            "image/png": "[encoded data removed]",
            "text/plain": [
              "<Figure size 640x480 with 1 Axes>"
            ]
          },
          "metadata": {},
          "output_type": "display_data"
        }
      ],
      "source": [
        "df.groupby('Month')['OrderValue'].sum().plot(kind='line')"
      ]
    },
    {
      "attachments": {},
      "cell_type": "markdown",
      "id": "0e0f6342",
      "metadata": {},
      "source": [
        "### 6- Why April and December suffer from low sales? 4,12\n"
      ]
    },
    {
      "cell_type": "code",
      "execution_count": 19,
      "id": "e1dd5a32",
      "metadata": {
        "id": "e1dd5a32",
        "outputId": "ee798180-d298-4378-eb02-a3b2e880920e"
      },
      "outputs": [
        {
          "data": {
            "text/plain": [
              "<Axes: xlabel='Month'>"
            ]
          },
          "execution_count": 19,
          "metadata": {},
          "output_type": "execute_result"
        },
        {
          "data": {
            "image/png": "[encoded data removed]",
            "text/plain": [
              "<Figure size 640x480 with 1 Axes>"
            ]
          },
          "metadata": {},
          "output_type": "display_data"
        }
      ],
      "source": [
        "result = df.pivot_table(index='Month', columns='Major Category', values='OrderValue', aggfunc='sum')\n",
        "result.plot(kind='bar')"
      ]
    },
    {
      "attachments": {},
      "cell_type": "markdown",
      "id": "f6436875",
      "metadata": {},
      "source": [
        "Becouse the lowest month sales in Garden,Kitchen and Clothes Categories is 'April' by total sales 588.83\n",
        "\n",
        "and the 2th lowest month sales in Garden is December by total sales 1194.22"
      ]
    },
    {
      "attachments": {},
      "cell_type": "markdown",
      "id": "886c0c20",
      "metadata": {},
      "source": [
        "### 7- Why May and November have high sales? 5,11\n"
      ]
    },
    {
      "cell_type": "code",
      "execution_count": 20,
      "id": "a6bdaa2a",
      "metadata": {
        "id": "a6bdaa2a",
        "outputId": "bd3a12dc-da98-46fb-9ea4-0da35c5e8d68"
      },
      "outputs": [],
      "source": []
    },
    {
      "attachments": {},
      "cell_type": "markdown",
      "id": "7ad33813",
      "metadata": {},
      "source": [
        "### 8- Most Major Items sold in April and December 4,12"
      ]
    },
    {
      "cell_type": "code",
      "execution_count": 67,
      "id": "edba2ea7",
      "metadata": {
        "id": "edba2ea7",
        "outputId": "ced6a30e-37e1-4838-be68-1dd09d9f0c53"
      },
      "outputs": [
        {
          "data": {
            "text/plain": [
              "Major Category\n",
              "  Household      665.86\n",
              "Name: OrderValue, dtype: float64"
            ]
          },
          "execution_count": 67,
          "metadata": {},
          "output_type": "execute_result"
        }
      ],
      "source": [
        "df[(df['Month']==4) | (df['Month']==12)].groupby('Major Category')['OrderValue'].sum().sort_values(ascending=False).head(1)"
      ]
    },
    {
      "attachments": {},
      "cell_type": "markdown",
      "id": "d45c063e",
      "metadata": {},
      "source": [
        "8.1 Most Major Items sold in April 4\n"
      ]
    },
    {
      "cell_type": "code",
      "execution_count": 68,
      "id": "4e2a85e7",
      "metadata": {},
      "outputs": [
        {
          "data": {
            "text/plain": [
              "Major Category\n",
              "  Household      335.02\n",
              "Name: OrderValue, dtype: float64"
            ]
          },
          "execution_count": 68,
          "metadata": {},
          "output_type": "execute_result"
        }
      ],
      "source": [
        "df[(df['Month']==4)].groupby('Major Category')['OrderValue'].sum().sort_values(ascending=False).head(1)"
      ]
    },
    {
      "attachments": {},
      "cell_type": "markdown",
      "id": "19176bbb",
      "metadata": {},
      "source": [
        "8.2 Most Major Items sold in December 12"
      ]
    },
    {
      "cell_type": "code",
      "execution_count": 69,
      "id": "a1d340f8",
      "metadata": {},
      "outputs": [
        {
          "data": {
            "text/plain": [
              "Major Category\n",
              "    Kitchen      492.45\n",
              "Name: OrderValue, dtype: float64"
            ]
          },
          "execution_count": 69,
          "metadata": {},
          "output_type": "execute_result"
        }
      ],
      "source": [
        "df[(df['Month']==12)].groupby('Major Category')['OrderValue'].sum().sort_values(ascending=False).head(1)"
      ]
    },
    {
      "attachments": {},
      "cell_type": "markdown",
      "id": "ac8a8316",
      "metadata": {},
      "source": [
        "### 9- Most Major Items sold in May and November\n"
      ]
    },
    {
      "cell_type": "code",
      "execution_count": 70,
      "id": "fe7231c1",
      "metadata": {
        "id": "fe7231c1",
        "outputId": "24e8d197-3ddd-42b8-e1df-48f966f36664"
      },
      "outputs": [
        {
          "data": {
            "text/plain": [
              "Major Category\n",
              "     Garden      1651.9\n",
              "Name: OrderValue, dtype: float64"
            ]
          },
          "execution_count": 70,
          "metadata": {},
          "output_type": "execute_result"
        }
      ],
      "source": [
        "df[(df['Month']==5) | (df['Month']==11)].groupby('Major Category')['OrderValue'].sum().sort_values(ascending=False).head(1)"
      ]
    },
    {
      "attachments": {},
      "cell_type": "markdown",
      "id": "96c0f7c7",
      "metadata": {},
      "source": [
        "9.1 Most Major Items sold in May 5"
      ]
    },
    {
      "cell_type": "code",
      "execution_count": 71,
      "id": "813a384c",
      "metadata": {},
      "outputs": [
        {
          "data": {
            "text/plain": [
              "Major Category\n",
              "     Garden      815.77\n",
              "Name: OrderValue, dtype: float64"
            ]
          },
          "execution_count": 71,
          "metadata": {},
          "output_type": "execute_result"
        }
      ],
      "source": [
        "df[(df['Month']==5)].groupby('Major Category')['OrderValue'].sum().sort_values(ascending=False).head(1)"
      ]
    },
    {
      "attachments": {},
      "cell_type": "markdown",
      "id": "133d468c",
      "metadata": {},
      "source": [
        "9.2 Most Major Items sold in November 11"
      ]
    },
    {
      "cell_type": "code",
      "execution_count": 72,
      "id": "3d619924",
      "metadata": {},
      "outputs": [
        {
          "data": {
            "text/plain": [
              "Major Category\n",
              "    Kitchen      880.79\n",
              "Name: OrderValue, dtype: float64"
            ]
          },
          "execution_count": 72,
          "metadata": {},
          "output_type": "execute_result"
        }
      ],
      "source": [
        "df[(df['Month']==11)].groupby('Major Category')['OrderValue'].sum().sort_values(ascending=False).head(1)"
      ]
    },
    {
      "attachments": {},
      "cell_type": "markdown",
      "id": "b676fc49",
      "metadata": {},
      "source": [
        "### 10- What Hour recives high demand for ordering?\n"
      ]
    },
    {
      "cell_type": "code",
      "execution_count": 80,
      "id": "3a4771ba",
      "metadata": {
        "id": "3a4771ba",
        "outputId": "f4d09bdd-ed17-43fe-a982-1677651ad9dc"
      },
      "outputs": [
        {
          "data": {
            "text/plain": [
              "InvoiceTime\n",
              "   14:09       20\n",
              "Name: InvoiceNo  , dtype: int64"
            ]
          },
          "execution_count": 80,
          "metadata": {},
          "output_type": "execute_result"
        }
      ],
      "source": [
        "df.groupby('InvoiceTime')['InvoiceNo  '].count().sort_values(ascending=False).head(1)"
      ]
    },
    {
      "attachments": {},
      "cell_type": "markdown",
      "id": "c29f39fa",
      "metadata": {},
      "source": [
        "### 11- What's the Time of the day that contributes to high Order Values?\n"
      ]
    },
    {
      "cell_type": "code",
      "execution_count": 82,
      "id": "3f86e741",
      "metadata": {
        "id": "3f86e741",
        "outputId": "1ec83b7b-2258-449e-e4a2-a899da74f82d"
      },
      "outputs": [
        {
          "data": {
            "text/plain": [
              "InvoiceTime\n",
              "   10:59       1297.2\n",
              "Name: OrderValue, dtype: float64"
            ]
          },
          "execution_count": 82,
          "metadata": {},
          "output_type": "execute_result"
        }
      ],
      "source": [
        "df.groupby('InvoiceTime')['OrderValue'].sum().sort_values(ascending=False).head(1)"
      ]
    },
    {
      "attachments": {},
      "cell_type": "markdown",
      "id": "717b305e",
      "metadata": {},
      "source": [
        "### 12 - Order VAlue For each Country in each month\n"
      ]
    },
    {
      "cell_type": "code",
      "execution_count": 94,
      "id": "1ca2915c",
      "metadata": {
        "id": "1ca2915c",
        "outputId": "028d29c1-4c6e-4636-a4e2-a3850cb2261d"
      },
      "outputs": [
        {
          "data": {
            "text/plain": [
              "Country            Month\n",
              "        France     1         576.29\n",
              "                   2         213.60\n",
              "                   3         508.47\n",
              "                   4          30.30\n",
              "                   5         392.82\n",
              "                   6         514.00\n",
              "                   7         244.86\n",
              "                   8         839.34\n",
              "                   9         379.58\n",
              "                   10        577.14\n",
              "                   11       1108.31\n",
              "                   12        253.45\n",
              "       Germany     1         279.10\n",
              "                   2         420.50\n",
              "                   3          50.55\n",
              "                   4          98.00\n",
              "                   5         753.30\n",
              "                   6         138.38\n",
              "                   7         221.99\n",
              "                   8         137.55\n",
              "                   9         217.26\n",
              "                   10        167.46\n",
              "                   11        356.84\n",
              "                   12        312.78\n",
              "     Australia     1         471.30\n",
              "                   2         511.94\n",
              "                   3        1360.70\n",
              "                   5         589.38\n",
              "                   6         748.00\n",
              "                   7         477.26\n",
              "                   8         558.18\n",
              "                   9        1007.97\n",
              "                   10        231.90\n",
              "                   11        245.76\n",
              "                   12        147.50\n",
              "     Hong Kong     1         595.80\n",
              "                   4          73.10\n",
              "                   5         269.85\n",
              "                   6          15.00\n",
              "                   8         578.90\n",
              "                   10        127.59\n",
              "United Kingdom     1         157.76\n",
              "                   2         612.72\n",
              "                   3         404.47\n",
              "                   4         387.43\n",
              "                   5         388.99\n",
              "                   6         463.51\n",
              "                   7         618.12\n",
              "                   8         213.22\n",
              "                   9         734.94\n",
              "                   10        278.45\n",
              "                   11        842.83\n",
              "                   12        480.49\n",
              "Name: OrderValue, dtype: float64"
            ]
          },
          "execution_count": 94,
          "metadata": {},
          "output_type": "execute_result"
        }
      ],
      "source": [
        "df.pivot_table(index=['Country','Month'],values='OrderValue',aggfunc='sum')"
      ]
    },
    {
      "cell_type": "code",
      "execution_count": 95,
      "id": "50476e4c",
      "metadata": {},
      "outputs": [
        {
          "data": {
            "text/plain": [
              "Index(['InvoiceNo  ', 'UnitPrice', 'OrderValue', 'Quantit', 'Country',\n",
              "       'InvoiceTime', 'Major Category', 'Minor Category', 'Description',\n",
              "       'Date', 'Month'],\n",
              "      dtype='object')"
            ]
          },
          "execution_count": 95,
          "metadata": {},
          "output_type": "execute_result"
        }
      ],
      "source": [
        "df.columns"
      ]
    },
    {
      "attachments": {},
      "cell_type": "markdown",
      "id": "008b1f67",
      "metadata": {},
      "source": [
        "### 13 - Order VAlue For each Country and Major Category in Minor Category\n",
        "\n"
      ]
    },
    {
      "cell_type": "code",
      "execution_count": 96,
      "id": "236afb84",
      "metadata": {
        "id": "236afb84",
        "outputId": "162deafe-37f3-4aa7-dfa6-e45e40b52b98"
      },
      "outputs": [
        {
          "data": {
            "text/html": [
              "<div>\n",
              "<style scoped>\n",
              "    .dataframe tbody tr th:only-of-type {\n",
              "        vertical-align: middle;\n",
              "    }\n",
              "\n",
              "    .dataframe tbody tr th {\n",
              "        vertical-align: top;\n",
              "    }\n",
              "\n",
              "    .dataframe thead th {\n",
              "        text-align: right;\n",
              "    }\n",
              "</style>\n",
              "<table border=\"1\" class=\"dataframe\">\n",
              "  <thead>\n",
              "    <tr style=\"text-align: right;\">\n",
              "      <th></th>\n",
              "      <th></th>\n",
              "      <th></th>\n",
              "      <th>OrderValue</th>\n",
              "    </tr>\n",
              "    <tr>\n",
              "      <th>Country</th>\n",
              "      <th>Major Category</th>\n",
              "      <th>Minor Category</th>\n",
              "      <th></th>\n",
              "    </tr>\n",
              "  </thead>\n",
              "  <tbody>\n",
              "    <tr>\n",
              "      <th rowspan=\"5\" valign=\"top\">France</th>\n",
              "      <th rowspan=\"4\" valign=\"top\">Garden</th>\n",
              "      <th>Turf</th>\n",
              "      <td>653.75</td>\n",
              "    </tr>\n",
              "    <tr>\n",
              "      <th>Hoses</th>\n",
              "      <td>630.55</td>\n",
              "    </tr>\n",
              "    <tr>\n",
              "      <th>Rakes</th>\n",
              "      <td>223.94</td>\n",
              "    </tr>\n",
              "    <tr>\n",
              "      <th>Seeds</th>\n",
              "      <td>380.16</td>\n",
              "    </tr>\n",
              "    <tr>\n",
              "      <th>Clothes</th>\n",
              "      <th>Hats</th>\n",
              "      <td>431.42</td>\n",
              "    </tr>\n",
              "    <tr>\n",
              "      <th>...</th>\n",
              "      <th>...</th>\n",
              "      <th>...</th>\n",
              "      <td>...</td>\n",
              "    </tr>\n",
              "    <tr>\n",
              "      <th rowspan=\"5\" valign=\"top\">United Kingdom</th>\n",
              "      <th>Kitchen</th>\n",
              "      <th>Cooking Knives</th>\n",
              "      <td>136.61</td>\n",
              "    </tr>\n",
              "    <tr>\n",
              "      <th rowspan=\"4\" valign=\"top\">Household</th>\n",
              "      <th>Rugs</th>\n",
              "      <td>165.08</td>\n",
              "    </tr>\n",
              "    <tr>\n",
              "      <th>Lamps</th>\n",
              "      <td>148.83</td>\n",
              "    </tr>\n",
              "    <tr>\n",
              "      <th>Chairs</th>\n",
              "      <td>420.08</td>\n",
              "    </tr>\n",
              "    <tr>\n",
              "      <th>Curtains</th>\n",
              "      <td>768.11</td>\n",
              "    </tr>\n",
              "  </tbody>\n",
              "</table>\n",
              "<p>83 rows × 1 columns</p>\n",
              "</div>"
            ],
            "text/plain": [
              "                                                 OrderValue\n",
              "Country           Major Category Minor Category            \n",
              "        France         Garden              Turf      653.75\n",
              "                                          Hoses      630.55\n",
              "                                          Rakes      223.94\n",
              "                                          Seeds      380.16\n",
              "                      Clothes              Hats      431.42\n",
              "...                                                     ...\n",
              "United Kingdom        Kitchen    Cooking Knives      136.61\n",
              "                    Household              Rugs      165.08\n",
              "                                          Lamps      148.83\n",
              "                                         Chairs      420.08\n",
              "                                       Curtains      768.11\n",
              "\n",
              "[83 rows x 1 columns]"
            ]
          },
          "execution_count": 96,
          "metadata": {},
          "output_type": "execute_result"
        }
      ],
      "source": [
        "df.pivot_table(index=['Country','Major Category','Minor Category'],values='OrderValue',aggfunc='sum')"
      ]
    },
    {
      "attachments": {},
      "cell_type": "markdown",
      "id": "ab8ecc25",
      "metadata": {},
      "source": [
        "### 14 -Correlation between 'Quantit','OrderValue','UnitPrice'.\n"
      ]
    },
    {
      "cell_type": "code",
      "execution_count": 101,
      "id": "f00f3887",
      "metadata": {
        "id": "f00f3887",
        "outputId": "76e16aac-4a13-47e4-f7cb-58894ba05400"
      },
      "outputs": [
        {
          "data": {
            "text/html": [
              "<div>\n",
              "<style scoped>\n",
              "    .dataframe tbody tr th:only-of-type {\n",
              "        vertical-align: middle;\n",
              "    }\n",
              "\n",
              "    .dataframe tbody tr th {\n",
              "        vertical-align: top;\n",
              "    }\n",
              "\n",
              "    .dataframe thead th {\n",
              "        text-align: right;\n",
              "    }\n",
              "</style>\n",
              "<table border=\"1\" class=\"dataframe\">\n",
              "  <thead>\n",
              "    <tr style=\"text-align: right;\">\n",
              "      <th></th>\n",
              "      <th>Quantit</th>\n",
              "      <th>OrderValue</th>\n",
              "      <th>UnitPrice</th>\n",
              "    </tr>\n",
              "  </thead>\n",
              "  <tbody>\n",
              "    <tr>\n",
              "      <th>Quantit</th>\n",
              "      <td>1.000000</td>\n",
              "      <td>0.696566</td>\n",
              "      <td>-0.072481</td>\n",
              "    </tr>\n",
              "    <tr>\n",
              "      <th>OrderValue</th>\n",
              "      <td>0.696566</td>\n",
              "      <td>1.000000</td>\n",
              "      <td>0.122778</td>\n",
              "    </tr>\n",
              "    <tr>\n",
              "      <th>UnitPrice</th>\n",
              "      <td>-0.072481</td>\n",
              "      <td>0.122778</td>\n",
              "      <td>1.000000</td>\n",
              "    </tr>\n",
              "  </tbody>\n",
              "</table>\n",
              "</div>"
            ],
            "text/plain": [
              "             Quantit  OrderValue  UnitPrice\n",
              "Quantit     1.000000    0.696566  -0.072481\n",
              "OrderValue  0.696566    1.000000   0.122778\n",
              "UnitPrice  -0.072481    0.122778   1.000000"
            ]
          },
          "execution_count": 101,
          "metadata": {},
          "output_type": "execute_result"
        }
      ],
      "source": [
        "df[['Quantit','OrderValue','UnitPrice']].corr()"
      ]
    }
  ],
  "metadata": {
    "colab": {
      "provenance": []
    },
    "kernelspec": {
      "display_name": "Python 3",
      "language": "python",
      "name": "python3"
    },
    "language_info": {
      "codemirror_mode": {
        "name": "ipython",
        "version": 3
      },
      "file_extension": ".py",
      "mimetype": "text/x-python",
      "name": "python",
      "nbconvert_exporter": "python",
      "pygments_lexer": "ipython3",
      "version": "3.11.3"
    }
  },
  "nbformat": 4,
  "nbformat_minor": 5
}
